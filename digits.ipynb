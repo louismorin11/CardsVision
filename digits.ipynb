{
 "cells": [
  {
   "cell_type": "code",
   "execution_count": 1,
   "metadata": {},
   "outputs": [
    {
     "name": "stdout",
     "output_type": "stream",
     "text": [
      "['Valet', '8', '9', '6', '9', 'Dame', '2', 'Roi', '4', 'Valet', '10', '7', 'As', '5', 'Dame', 'Dame', '10', 'Dame', '9', '4', '5', '7', '8', '6', '9', 'As', '6', '3', 'Valet', '2', 'Roi', '7', '3', 'As', 'Roi']\n"
     ]
    },
    {
     "name": "stderr",
     "output_type": "stream",
     "text": [
      "/home/louis/.virtualenvs/cards/lib/python3.5/site-packages/sklearn/ensemble/forest.py:245: FutureWarning: The default value of n_estimators will change from 10 in version 0.20 to 100 in 0.22.\n",
      "  \"10 in version 0.20 to 100 in 0.22.\", FutureWarning)\n"
     ]
    },
    {
     "data": {
      "text/plain": [
       "RandomForestClassifier(bootstrap=True, class_weight=None, criterion='gini',\n",
       "                       max_depth=None, max_features='auto', max_leaf_nodes=None,\n",
       "                       min_impurity_decrease=0.0, min_impurity_split=None,\n",
       "                       min_samples_leaf=1, min_samples_split=2,\n",
       "                       min_weight_fraction_leaf=0.0, n_estimators=10,\n",
       "                       n_jobs=None, oob_score=False, random_state=None,\n",
       "                       verbose=0, warm_start=False)"
      ]
     },
     "execution_count": 1,
     "metadata": {},
     "output_type": "execute_result"
    }
   ],
   "source": [
    "from sklearn import datasets, svm, metrics\n",
    "import scipy.io\n",
    "import matplotlib.pyplot as plt\n",
    "\n",
    "import numpy as np\n",
    "import argparse\n",
    "import os\n",
    "import cv2\n",
    "import imutils\n",
    "import sys\n",
    "\n",
    "import os.path\n",
    "\n",
    "imgs = []\n",
    "matrix = []\n",
    "num = []\n",
    "path = \"/home/louis/projects/CardsVision/ranks_train\"\n",
    "valid_images = [\".jpg\",\".gif\",\".png\",\".tga\"]\n",
    "for f in os.listdir(path):\n",
    "    ext = os.path.splitext(f)[1]\n",
    "    if ext.lower() not in valid_images:\n",
    "        continue\n",
    "    imgs.append((os.path.join(path,f)))\n",
    "\n",
    "for i in imgs:\n",
    "    X = cv2.imread(i,cv2.COLOR_BGR2GRAY)\n",
    "    matrix.append(X.flatten())\n",
    "    num.append(i.split('/')[-1].split('.')[0].split('_')[0])\n",
    "X = matrix\n",
    "y = num\n",
    "print(y)\n",
    "\n",
    "\n",
    "\n",
    "from sklearn.utils import shuffle\n",
    "\n",
    "X, y = shuffle(X,y, random_state=42)\n",
    "from sklearn.ensemble import RandomForestClassifier\n",
    "\n",
    "clf = RandomForestClassifier()\n",
    "\n",
    "from sklearn.model_selection import train_test_split\n",
    "\n",
    "\n",
    "clf.fit(X, y)"
   ]
  },
  {
   "cell_type": "code",
   "execution_count": 9,
   "metadata": {},
   "outputs": [
    {
     "name": "stdout",
     "output_type": "stream",
     "text": [
      "['Dame', '1', 'Dame', '8', '2', 'Dame', 'Valet', 'Valet', '4']\n"
     ]
    }
   ],
   "source": [
    "imgs_test = []\n",
    "matrix_test = []\n",
    "num_test = []\n",
    "path = \"/home/louis/projects/CardsVision/ranks_test\"\n",
    "valid_images = [\".jpg\",\".gif\",\".png\",\".tga\"]\n",
    "for f in os.listdir(path):\n",
    "    ext = os.path.splitext(f)[1]\n",
    "    if ext.lower() not in valid_images:\n",
    "        continue\n",
    "    imgs_test.append((os.path.join(path,f)))\n",
    "\n",
    "for i in imgs_test:\n",
    "    X = cv2.imread(i,cv2.COLOR_BGR2GRAY)\n",
    "    matrix_test.append(X.flatten())\n",
    "    num_test.append(i.split('/')[-1].split('_')[0].split('.')[0])\n",
    "X_test = matrix_test\n",
    "y_test = num_test\n",
    "X_test, y_test = shuffle(X_test, y_test, random_state=42)\n",
    "print(y_test)"
   ]
  },
  {
   "cell_type": "code",
   "execution_count": 10,
   "metadata": {},
   "outputs": [
    {
     "name": "stdout",
     "output_type": "stream",
     "text": [
      "['10' 'As' '10' '8' '2' '10' 'Valet' 'Valet' '4']\n",
      "Accuracy: 0.5555555555555556\n"
     ]
    }
   ],
   "source": [
    "from sklearn.metrics import accuracy_score\n",
    "\n",
    "preds = clf.predict(X_test)\n",
    "print(preds)\n",
    "print(\"Accuracy:\", accuracy_score(y_test,preds))"
   ]
  },
  {
   "cell_type": "code",
   "execution_count": 4,
   "metadata": {},
   "outputs": [
    {
     "name": "stdout",
     "output_type": "stream",
     "text": [
      "/home/louis/projects/CardsVision/suits_train/as_carreau.jpg\n",
      "/home/louis/projects/CardsVision/suits_train/04_pique.jpg\n",
      "/home/louis/projects/CardsVision/suits_train/05_coeur.jpg\n",
      "/home/louis/projects/CardsVision/suits_train/9_pique.jpg\n",
      "/home/louis/projects/CardsVision/suits_train/coeur.jpg\n",
      "/home/louis/projects/CardsVision/suits_train/33_coeur.jpg\n",
      "/home/louis/projects/CardsVision/suits_train/42_carreau.jpg\n",
      "/home/louis/projects/CardsVision/suits_train/valet_pique.jpg\n",
      "/home/louis/projects/CardsVision/suits_train/39_coeur.jpg\n",
      "/home/louis/projects/CardsVision/suits_train/16_coeur.jpg\n",
      "/home/louis/projects/CardsVision/suits_train/dame_pique.jpg\n",
      "/home/louis/projects/CardsVision/suits_train/0dame_trefle.jpg\n",
      "/home/louis/projects/CardsVision/suits_train/38valet_pique.jpg\n",
      "/home/louis/projects/CardsVision/suits_train/carreau.jpg\n",
      "/home/louis/projects/CardsVision/suits_train/pique.jpg\n",
      "/home/louis/projects/CardsVision/suits_train/10_carreau.jpg\n",
      "/home/louis/projects/CardsVision/suits_train/18valet_trefle.jpg\n",
      "/home/louis/projects/CardsVision/suits_train/1_carreau.jpg\n",
      "/home/louis/projects/CardsVision/suits_train/6_pique.jpg\n",
      "/home/louis/projects/CardsVision/suits_train/roi_trefle.jpg\n",
      "/home/louis/projects/CardsVision/suits_train/310_carreau.jpg\n",
      "/home/louis/projects/CardsVision/suits_train/3as_trefle.jpg\n",
      "/home/louis/projects/CardsVision/suits_train/3roi_carreau.jpg\n",
      "/home/louis/projects/CardsVision/suits_train/18_pique.jpg\n",
      "/home/louis/projects/CardsVision/suits_train/8valet_trefle.jpg\n",
      "/home/louis/projects/CardsVision/suits_train/48valet_trefle.jpg\n",
      "/home/louis/projects/CardsVision/suits_train/trefle.jpg\n",
      "/home/louis/projects/CardsVision/suits_train/2valet_trefle.jpg\n",
      "/home/louis/projects/CardsVision/suits_train/07_carreau.jpg\n",
      "/home/louis/projects/CardsVision/suits_train/7_pique.jpg\n",
      "/home/louis/projects/CardsVision/suits_train/0_pique.jpg\n",
      "/home/louis/projects/CardsVision/suits_train/58valet_trefle.jpg\n",
      "/home/louis/projects/CardsVision/suits_train/29_coeur.jpg\n",
      "['carreau', 'pique', 'coeur', 'pique', 'coeur', 'coeur', 'carreau', 'pique', 'coeur', 'coeur', 'pique', 'trefle', 'pique', 'carreau', 'pique', 'carreau', 'trefle', 'carreau', 'pique', 'trefle', 'carreau', 'trefle', 'carreau', 'pique', 'trefle', 'trefle', 'trefle', 'trefle', 'carreau', 'pique', 'pique', 'trefle', 'coeur']\n"
     ]
    },
    {
     "name": "stderr",
     "output_type": "stream",
     "text": [
      "/home/louis/.virtualenvs/cards/lib/python3.5/site-packages/sklearn/ensemble/forest.py:245: FutureWarning: The default value of n_estimators will change from 10 in version 0.20 to 100 in 0.22.\n",
      "  \"10 in version 0.20 to 100 in 0.22.\", FutureWarning)\n"
     ]
    },
    {
     "data": {
      "text/plain": [
       "RandomForestClassifier(bootstrap=True, class_weight=None, criterion='gini',\n",
       "                       max_depth=None, max_features='auto', max_leaf_nodes=None,\n",
       "                       min_impurity_decrease=0.0, min_impurity_split=None,\n",
       "                       min_samples_leaf=1, min_samples_split=2,\n",
       "                       min_weight_fraction_leaf=0.0, n_estimators=10,\n",
       "                       n_jobs=None, oob_score=False, random_state=None,\n",
       "                       verbose=0, warm_start=False)"
      ]
     },
     "execution_count": 4,
     "metadata": {},
     "output_type": "execute_result"
    }
   ],
   "source": [
    "\n",
    "imgs_suits = []\n",
    "matrix_suits = []\n",
    "num_suits = []\n",
    "path = \"/home/louis/projects/CardsVision/suits_train\"\n",
    "valid_images = [\".jpg\",\".gif\",\".png\",\".tga\"]\n",
    "for f in os.listdir(path):\n",
    "    ext = os.path.splitext(f)[1]\n",
    "    if ext.lower() not in valid_images:\n",
    "        continue\n",
    "    imgs_suits.append((os.path.join(path,f)))\n",
    "\n",
    "for i in imgs_suits:\n",
    "    X_suits = cv2.imread(i,cv2.COLOR_BGR2GRAY)\n",
    "    matrix_suits.append(X_suits.flatten())\n",
    "    print(i)\n",
    "    num_suits.append(i.split('/')[-1].split('.')[0].split('_')[-1])\n",
    "X_suits = matrix_suits\n",
    "y_suits = num_suits\n",
    "print(y_suits)\n",
    "\n",
    "\n",
    "\n",
    "from sklearn.utils import shuffle\n",
    "\n",
    "X_suits, y_suits = shuffle(X_suits,y_suits, random_state=42)\n",
    "from sklearn.ensemble import RandomForestClassifier\n",
    "\n",
    "clf_suits = RandomForestClassifier()\n",
    "\n",
    "from sklearn.model_selection import train_test_split\n",
    "\n",
    "\n",
    "clf_suits.fit(X_suits, y_suits)"
   ]
  },
  {
   "cell_type": "code",
   "execution_count": 11,
   "metadata": {},
   "outputs": [
    {
     "name": "stdout",
     "output_type": "stream",
     "text": [
      "['coeur', 'trefle', 'coeur', 'trefle', 'coeur', 'coeur', 'pique', 'pique', 'carreau', 'coeur', 'trefle', 'pique', 'carreau', 'coeur', 'trefle', 'coeur', 'pique', 'pique', 'carreau', 'trefle', 'trefle', 'carreau', 'coeur', 'carreau', 'carreau', 'trefle', 'carreau', 'trefle', 'carreau']\n"
     ]
    }
   ],
   "source": [
    "imgs_test = []\n",
    "matrix_test = []\n",
    "num_test = []\n",
    "path = \"/home/louis/projects/CardsVision/suits_tests\"\n",
    "valid_images = [\".jpg\",\".gif\",\".png\",\".tga\"]\n",
    "for f in os.listdir(path):\n",
    "    ext = os.path.splitext(f)[1]\n",
    "    if ext.lower() not in valid_images:\n",
    "        continue\n",
    "    imgs_test.append((os.path.join(path,f)))\n",
    "\n",
    "for i in imgs_test:\n",
    "    X = cv2.imread(i,cv2.COLOR_BGR2GRAY)\n",
    "    matrix_test.append(X.flatten())\n",
    "    num_test.append(i.split('/')[-1].split('.')[0].split('_')[-1])\n",
    "X_test = matrix_test\n",
    "y_test = num_test\n",
    "X_test, y_test = shuffle(X_test, y_test, random_state=42)\n",
    "print(y_test)"
   ]
  },
  {
   "cell_type": "code",
   "execution_count": 12,
   "metadata": {},
   "outputs": [
    {
     "name": "stdout",
     "output_type": "stream",
     "text": [
      "['coeur' 'trefle' 'coeur' 'trefle' 'coeur' 'coeur' 'pique' 'pique'\n",
      " 'carreau' 'coeur' 'pique' 'pique' 'carreau' 'coeur' 'trefle' 'coeur'\n",
      " 'pique' 'pique' 'carreau' 'trefle' 'trefle' 'carreau' 'coeur' 'carreau'\n",
      " 'carreau' 'trefle' 'carreau' 'trefle' 'carreau']\n",
      "Accuracy: 0.9655172413793104\n"
     ]
    }
   ],
   "source": [
    "from sklearn.metrics import accuracy_score\n",
    "\n",
    "preds = clf_suits.predict(X_test)\n",
    "print(preds)\n",
    "print(\"Accuracy:\", accuracy_score(y_test,preds))"
   ]
  },
  {
   "cell_type": "code",
   "execution_count": null,
   "metadata": {},
   "outputs": [],
   "source": []
  }
 ],
 "metadata": {
  "kernelspec": {
   "display_name": "Python 3",
   "language": "python",
   "name": "python3"
  },
  "language_info": {
   "codemirror_mode": {
    "name": "ipython",
    "version": 3
   },
   "file_extension": ".py",
   "mimetype": "text/x-python",
   "name": "python",
   "nbconvert_exporter": "python",
   "pygments_lexer": "ipython3",
   "version": "3.5.2"
  }
 },
 "nbformat": 4,
 "nbformat_minor": 2
}
